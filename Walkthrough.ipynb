{
 "cells": [
  {
   "cell_type": "markdown",
   "metadata": {},
   "source": [
    "### PS3 Solution CHEME 5440/7770 Walkthrough"
   ]
  },
  {
   "cell_type": "markdown",
   "metadata": {},
   "source": [
    "In this problem we ask to you to compile a list of chemical reactions for a model of the [Urea cycle in human]((https://www.genome.jp/kegg-bin/show_pathway?hsa00220)).  \n",
    "This solution is slightly different from the [PS3 solution posted last year](https://github.com/varnerlab/CHEME-7770-Cornell-S19) because in this problem we ask you to\n",
    "update the flux bounds array, and include a dilution due to growth term, using the metabolite measurements and saturation constants from [Park et al](https://pubmed.ncbi.nlm.nih.gov/27159581/) or [BRENDA](https://www.brenda-enzymes.org). "
   ]
  },
  {
   "cell_type": "markdown",
   "metadata": {},
   "source": [
    "### How do I do the QA/QC balance check?\n",
    "To check if the chemical reactions (contained in the ``Reactions.dat`` file) are balanced, issue the command:\n",
    "\n",
    "  ```jl\n",
    "    julia > include(\"CheckBalances.jl\")\n",
    "  ```\n",
    "This will formulate the Atom matrix ``A``, and then compute the product of ``transpose(A)*S`` where ``S`` denotes the stoichiometric matrix (contained in the file ``Network.net``). Two arrays are produced: 1) ``epsilon_1`` describes the case when we do not consider the boundary species (we have to nothing/from nothing reactions). These reactions will appear unbalanced with all internal reactions balanced (first few cols); ii) however, ``epsilon_2`` describes the case when you do include the boundary species, all reactions are balanced (all cols aer zero)."
   ]
  },
  {
   "cell_type": "code",
   "execution_count": 5,
   "metadata": {},
   "outputs": [],
   "source": [
    "# execute the solution -\n",
    "include(\"CheckBalances.jl\");"
   ]
  },
  {
   "cell_type": "code",
   "execution_count": 8,
   "metadata": {},
   "outputs": [
    {
     "data": {
      "text/plain": [
       "6×21 Array{Float64,2}:\n",
       " 0.0  0.0  0.0  0.0  0.0  0.0  1.0  4.0  …  21.0  0.0   0.0  -21.0   0.0  0.0\n",
       " 0.0  0.0  0.0  0.0  0.0  0.0  4.0  7.0     30.0  1.0   0.0  -29.0  -2.0  2.0\n",
       " 0.0  0.0  0.0  0.0  0.0  0.0  1.0  1.0      7.0  0.0  -1.0   -7.0   0.0  0.0\n",
       " 0.0  0.0  0.0  0.0  0.0  0.0  5.0  4.0     17.0  0.0  -1.0  -17.0  -1.0  1.0\n",
       " 0.0  0.0  0.0  0.0  0.0  0.0  1.0  0.0      3.0  0.0   0.0   -3.0   0.0  0.0\n",
       " 0.0  0.0  0.0  0.0  0.0  0.0  0.0  0.0  …   0.0  0.0   0.0    0.0   0.0  0.0"
      ]
     },
     "execution_count": 8,
     "metadata": {},
     "output_type": "execute_result"
    }
   ],
   "source": [
    "# Case 1: No external species: when do NOT include the external species, you are checking the balances inside the box \n",
    "# (the first 5 or 6 cols, depending upon how you implemented the reversible reactions) -\n",
    "epsilon_1"
   ]
  },
  {
   "cell_type": "code",
   "execution_count": 10,
   "metadata": {},
   "outputs": [
    {
     "data": {
      "text/plain": [
       "6×21 Array{Float64,2}:\n",
       " 0.0  0.0  0.0  0.0  0.0  0.0  0.0  0.0  …  0.0  0.0  0.0  0.0  0.0  0.0  0.0\n",
       " 0.0  0.0  0.0  0.0  0.0  0.0  0.0  0.0     0.0  0.0  0.0  0.0  0.0  0.0  0.0\n",
       " 0.0  0.0  0.0  0.0  0.0  0.0  0.0  0.0     0.0  0.0  0.0  0.0  0.0  0.0  0.0\n",
       " 0.0  0.0  0.0  0.0  0.0  0.0  0.0  0.0     0.0  0.0  0.0  0.0  0.0  0.0  0.0\n",
       " 0.0  0.0  0.0  0.0  0.0  0.0  0.0  0.0     0.0  0.0  0.0  0.0  0.0  0.0  0.0\n",
       " 0.0  0.0  0.0  0.0  0.0  0.0  0.0  0.0  …  0.0  0.0  0.0  0.0  0.0  0.0  0.0"
      ]
     },
     "execution_count": 10,
     "metadata": {},
     "output_type": "execute_result"
    }
   ],
   "source": [
    "# Case 2: External species: including external species (metabolites that you are exchanging across the hypothetical boundary of the box) will give all zeros -\n",
    "epsilon_2"
   ]
  },
  {
   "cell_type": "markdown",
   "metadata": {},
   "source": [
    "### How do I estimate the fluxes?\n",
    "To estimate the Urea flux, issue the command:\n",
    "\n",
    "  ```jl\n",
    "    julia > include(\"Solve.jl\")\n",
    "  ```\n",
    "The ``Solve`` script formulates the constraints into a [Julia Dictionary](https://docs.julialang.org/en/v1/base/collections/#Dictionaries-1) which is passed to the solver code contained in the ``Flux.jl`` file.\n",
    "The solver returns a bunch of stuff; the ``objective_value`` and ``flux_array`` arguments contain the Urea flux and\n",
    "the optimal flux distribution, respectively. The optimal flux that I calculated was approximately: 1.24 mmol/gDW-hr."
   ]
  },
  {
   "cell_type": "markdown",
   "metadata": {},
   "source": [
    "#### The solver returns a bunch of stuff, what is all that?"
   ]
  },
  {
   "cell_type": "code",
   "execution_count": 18,
   "metadata": {},
   "outputs": [
    {
     "name": "stdout",
     "output_type": "stream",
     "text": [
      "search: \u001b[0m\u001b[1mc\u001b[22m\u001b[0m\u001b[1ma\u001b[22m\u001b[0m\u001b[1ml\u001b[22m\u001b[0m\u001b[1mc\u001b[22m\u001b[0m\u001b[1mu\u001b[22m\u001b[0m\u001b[1ml\u001b[22m\u001b[0m\u001b[1ma\u001b[22m\u001b[0m\u001b[1mt\u001b[22m\u001b[0m\u001b[1me\u001b[22m\u001b[0m\u001b[1m_\u001b[22m\u001b[0m\u001b[1mo\u001b[22m\u001b[0m\u001b[1mp\u001b[22m\u001b[0m\u001b[1mt\u001b[22m\u001b[0m\u001b[1mi\u001b[22m\u001b[0m\u001b[1mm\u001b[22m\u001b[0m\u001b[1ma\u001b[22m\u001b[0m\u001b[1ml\u001b[22m\u001b[0m\u001b[1m_\u001b[22m\u001b[0m\u001b[1mf\u001b[22m\u001b[0m\u001b[1ml\u001b[22m\u001b[0m\u001b[1mu\u001b[22m\u001b[0m\u001b[1mx\u001b[22m\u001b[0m\u001b[1m_\u001b[22m\u001b[0m\u001b[1md\u001b[22m\u001b[0m\u001b[1mi\u001b[22m\u001b[0m\u001b[1ms\u001b[22m\u001b[0m\u001b[1mt\u001b[22m\u001b[0m\u001b[1mr\u001b[22m\u001b[0m\u001b[1mi\u001b[22m\u001b[0m\u001b[1mb\u001b[22m\u001b[0m\u001b[1mu\u001b[22m\u001b[0m\u001b[1mt\u001b[22m\u001b[0m\u001b[1mi\u001b[22m\u001b[0m\u001b[1mo\u001b[22m\u001b[0m\u001b[1mn\u001b[22m\n",
      "\n"
     ]
    },
    {
     "data": {
      "text/latex": [
       "\\begin{verbatim}\n",
       "calculate_optimal_flux_distribution(dictionary; min_flag=true)\n",
       "\n",
       "Computes the optimal metabolic flux distribution given the constraints.\n",
       "\n",
       "Inputs: a dictionary that contains:\n",
       "`stoichiometric_matrix` - stoichiometric_matrix (M x R)\n",
       "`default_flux_bounds_array` - (R x 2) array of the flux lower (L) and upper (U) bounds\n",
       "`species_bounds_array` - (M x 2) array of species lower (L) and upper (U) bounds (if at steady-state, L = U = 0)\n",
       "`objective_coefficient_array` - R x 1 vector holding indexes for objective vector\n",
       "\n",
       "Outputs:\n",
       "`objective_value` - value of the objective function at the optimum\n",
       "`calculated_flux_array` - R x 1 flux array at the optimum\n",
       "`dual_value_array` - R x 1 dual values\n",
       "`uptake_array` - M x 1 array of S*v\n",
       "`exit_flag` = 0 if optimal\n",
       "`status_flag` = 5 if optimal\n",
       "\\end{verbatim}\n"
      ],
      "text/markdown": [
       "```\n",
       "calculate_optimal_flux_distribution(dictionary; min_flag=true)\n",
       "\n",
       "Computes the optimal metabolic flux distribution given the constraints.\n",
       "\n",
       "Inputs: a dictionary that contains:\n",
       "`stoichiometric_matrix` - stoichiometric_matrix (M x R)\n",
       "`default_flux_bounds_array` - (R x 2) array of the flux lower (L) and upper (U) bounds\n",
       "`species_bounds_array` - (M x 2) array of species lower (L) and upper (U) bounds (if at steady-state, L = U = 0)\n",
       "`objective_coefficient_array` - R x 1 vector holding indexes for objective vector\n",
       "\n",
       "Outputs:\n",
       "`objective_value` - value of the objective function at the optimum\n",
       "`calculated_flux_array` - R x 1 flux array at the optimum\n",
       "`dual_value_array` - R x 1 dual values\n",
       "`uptake_array` - M x 1 array of S*v\n",
       "`exit_flag` = 0 if optimal\n",
       "`status_flag` = 5 if optimal\n",
       "```\n"
      ],
      "text/plain": [
       "\u001b[36m  calculate_optimal_flux_distribution(dictionary; min_flag=true)\u001b[39m\n",
       "\u001b[36m  \u001b[39m\n",
       "\u001b[36m  Computes the optimal metabolic flux distribution given the constraints.\u001b[39m\n",
       "\u001b[36m  \u001b[39m\n",
       "\u001b[36m  Inputs: a dictionary that contains:\u001b[39m\n",
       "\u001b[36m  `stoichiometric_matrix` - stoichiometric_matrix (M x R)\u001b[39m\n",
       "\u001b[36m  `default_flux_bounds_array` - (R x 2) array of the flux lower (L) and upper (U) bounds\u001b[39m\n",
       "\u001b[36m  `species_bounds_array` - (M x 2) array of species lower (L) and upper (U) bounds (if at steady-state, L = U = 0)\u001b[39m\n",
       "\u001b[36m  `objective_coefficient_array` - R x 1 vector holding indexes for objective vector\u001b[39m\n",
       "\u001b[36m  \u001b[39m\n",
       "\u001b[36m  Outputs:\u001b[39m\n",
       "\u001b[36m  `objective_value` - value of the objective function at the optimum\u001b[39m\n",
       "\u001b[36m  `calculated_flux_array` - R x 1 flux array at the optimum\u001b[39m\n",
       "\u001b[36m  `dual_value_array` - R x 1 dual values\u001b[39m\n",
       "\u001b[36m  `uptake_array` - M x 1 array of S*v\u001b[39m\n",
       "\u001b[36m  `exit_flag` = 0 if optimal\u001b[39m\n",
       "\u001b[36m  `status_flag` = 5 if optimal\u001b[39m"
      ]
     },
     "execution_count": 18,
     "metadata": {},
     "output_type": "execute_result"
    }
   ],
   "source": [
    "?calculate_optimal_flux_distribution"
   ]
  },
  {
   "cell_type": "code",
   "execution_count": 26,
   "metadata": {},
   "outputs": [],
   "source": [
    "# execute the solution (w/H20 exchange) -\n",
    "include(\"Solve.jl\");"
   ]
  },
  {
   "cell_type": "code",
   "execution_count": 28,
   "metadata": {},
   "outputs": [
    {
     "data": {
      "text/plain": [
       "-1.25496"
      ]
     },
     "execution_count": 28,
     "metadata": {},
     "output_type": "execute_result"
    }
   ],
   "source": [
    "objective_value # (obj_value = c*bUrea)"
   ]
  },
  {
   "cell_type": "markdown",
   "metadata": {},
   "source": [
    "### Theory: How do we incorporate metabolite information into the flux balance analysis constraints?\n",
    "We can incorporate metabolite concentration measurements in two places, the material balances through the dilution due to growth term, and the flux bounds. "
   ]
  },
  {
   "cell_type": "markdown",
   "metadata": {},
   "source": [
    "#### Material balances\n",
    "\n",
    "For the ith metabolite, at steady state, the material balance is given by:\n",
    "\n",
    "$$\n",
    "\\sum_{j=1}^{R-1}\\sigma_{ij}v_{j}+\\left(\\sigma_{i\\mu}-x_{i}\\right)\\mu = 0\\qquad{i=1,2,\\dots,M}\n",
    "$$\n",
    "\n",
    "where $\\sigma_{ij}$ denotes the stoichiometric coefficient for species $i$ and reaction $j$, $R$ denotes the number of reactions (where by convention the reaction at index $R$ is given by the growth reaction), $\\sigma_{i\\mu}$ denotes the stoichiometric coefficient for metabolite $i$ in the growth reaction, $x_{i}$ denotes the concentration measurement for species $i$, and $M$ denotes the number of species. In this case, $\\sigma_{i\\mu}=0$ for all metabiolites in the model (we assumed no metabolites were biomass precursors, this is clearly not correct for all of the metabolites in the model). Given this assumption the metabolite balances were given by:\n",
    "\n",
    "$$\n",
    "\\sum_{j=1}^{R-1}\\sigma_{ij}v_{j}-x_{i}\\mu = 0\\qquad{i=1,2,\\dots,M}\n",
    "$$"
   ]
  },
  {
   "cell_type": "markdown",
   "metadata": {},
   "source": [
    "#### Flux bounds\n",
    "\n",
    "In the flux balance analysis problem, each flux is bounded by a lower and upper bound. We can use metabolite information, and models for the rates of enzyme catalyzed reactionsto write better bounds. In particular, lets use multiple saturation kinetics to describe the jth rate which could depend upon many substrates:\n",
    "$$\n",
    "v_{j} = V^{max}_{j}\\prod_{k\\in{\\mathcal{R}(j)}}\\left(\\frac{x_{k}}{K_{kj}+x_{k}}\\right)\n",
    "$$"
   ]
  },
  {
   "cell_type": "markdown",
   "metadata": {},
   "source": [
    "where $\\mathcal{R}(j)$ denotes the set of reactants that are involved in reaction j. Given this model (which is just one of many possible models), we can write the bound for each flux as:\n",
    "\n",
    "$$\n",
    "0\\leq{v_{j}}\\leq{V^{max}_{j}\\prod_{k\\in{\\mathcal{R}(j)}}\\left(\\frac{x_{k}}{K_{kj}+x_{k}}\\right)}\n",
    "$$"
   ]
  },
  {
   "cell_type": "markdown",
   "metadata": {},
   "source": [
    "for an irreversible flux, or:\n",
    "\n",
    "\n",
    "$$\n",
    "-{V^{max,-}_{j}\\prod_{k\\in{\\mathcal{R^{-}}(j)}}\\left(\\frac{x_{k}}{K_{kj}+x_{k}}\\right)}\\leq{v_{j}}\\leq{V^{max,+}_{j}\\prod_{k\\in{\\mathcal{R^{+}}(j)}}\\left(\\frac{x_{k}}{K_{kj}+x_{k}}\\right)}\n",
    "$$"
   ]
  },
  {
   "cell_type": "markdown",
   "metadata": {},
   "source": [
    "for the reversible case where the superscript(s) -,+ denote the reverse and forward directions, respectively"
   ]
  },
  {
   "cell_type": "code",
   "execution_count": null,
   "metadata": {},
   "outputs": [],
   "source": []
  }
 ],
 "metadata": {
  "kernelspec": {
   "display_name": "Julia 1.4.0",
   "language": "julia",
   "name": "julia-1.4"
  },
  "language_info": {
   "file_extension": ".jl",
   "mimetype": "application/julia",
   "name": "julia",
   "version": "1.4.0"
  }
 },
 "nbformat": 4,
 "nbformat_minor": 4
}
